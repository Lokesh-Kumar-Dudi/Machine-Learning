{
 "cells": [
  {
   "cell_type": "markdown",
   "metadata": {},
   "source": [
    "# Linear Regression with one variable (Univariate Linear regression)\n"
   ]
  },
  {
   "cell_type": "markdown",
   "metadata": {},
   "source": [
    "### Importing the required python Modules "
   ]
  },
  {
   "cell_type": "code",
   "execution_count": 1,
   "metadata": {},
   "outputs": [],
   "source": [
    "import numpy as np\n",
    "import matplotlib.pyplot as plt"
   ]
  },
  {
   "cell_type": "markdown",
   "metadata": {},
   "source": [
    "### Loading the data from `data1.txt` using [np.loadtext](https://numpy.org/doc/stable/reference/generated/numpy.loadtxt.html) into an [np.ndarray](https://numpy.org/doc/stable/reference/generated/numpy.ndarray.html)  called `data`"
   ]
  },
  {
   "cell_type": "code",
   "execution_count": 2,
   "metadata": {},
   "outputs": [
    {
     "name": "stdout",
     "output_type": "stream",
     "text": [
      "The file \"data1.txt\" contains Data of Dimenson \"2\" and shape \"(97, 2)\" \n"
     ]
    }
   ],
   "source": [
    "data = np.loadtxt(\"data1.txt\",delimiter=',')\n",
    "print(\"The file \\\"{0}\\\" contains Data of Dimenson \\\"{1}\\\" and shape \\\"{2}\\\" \".format(\"data1.txt\",data.ndim,data.shape))"
   ]
  },
  {
   "cell_type": "markdown",
   "metadata": {},
   "source": [
    "### Creating `x` and `y` from `data`"
   ]
  },
  {
   "cell_type": "code",
   "execution_count": 3,
   "metadata": {},
   "outputs": [
    {
     "name": "stdout",
     "output_type": "stream",
     "text": [
      "\"x\" is a matrix of order \"97x1\" \n",
      "\"y\" is a matrix of order \"97x1\" \n"
     ]
    }
   ],
   "source": [
    "n_samples, n_features = data.shape\n",
    "x = data[:,0].reshape(n_samples,n_features-1)\n",
    "y = data[:,1].reshape(n_samples,1)\n",
    "rowx,columnx = x.shape\n",
    "rowy,columny = y.shape\n",
    "print(\"\\\"x\\\" is a matrix of order \\\"{0}x{1}\\\" \".format(rowx,columnx))\n",
    "print(\"\\\"y\\\" is a matrix of order \\\"{0}x{1}\\\" \".format(rowy,columny))"
   ]
  },
  {
   "cell_type": "markdown",
   "metadata": {},
   "source": [
    "### Ploting the given data using [matplotlib.pyplot](https://matplotlib.org/api/pyplot_api.html)\n"
   ]
  },
  {
   "cell_type": "code",
   "execution_count": 4,
   "metadata": {
    "scrolled": true
   },
   "outputs": [
    {
     "data": {
      "image/png": "[encoded data removed]",
      "text/plain": [
       "<Figure size 432x288 with 1 Axes>"
      ]
     },
     "metadata": {
      "needs_background": "light"
     },
     "output_type": "display_data"
    }
   ],
   "source": [
    "plt.scatter(x,y)\n",
    "plt.xlabel(\"Population size in 10000s\")\n",
    "plt.ylabel(\"profit in $10,000s\")\n",
    "plt.show()"
   ]
  },
  {
   "cell_type": "markdown",
   "metadata": {},
   "source": [
    "### Modifying `x` to have the first column full of 1s using [np.ones](https://numpy.org/doc/stable/reference/generated/numpy.ones.html) and [np.append](https://numpy.org/doc/stable/reference/generated/numpy.append.html)."
   ]
  },
  {
   "cell_type": "code",
   "execution_count": 5,
   "metadata": {},
   "outputs": [
    {
     "name": "stdout",
     "output_type": "stream",
     "text": [
      "\"x\" is a matrix of order \"97x2\"\n",
      " \n",
      "first 10 rows of \"x\"\n",
      "[[1.     6.1101]\n",
      " [1.     5.5277]\n",
      " [1.     8.5186]\n",
      " [1.     7.0032]\n",
      " [1.     5.8598]\n",
      " [1.     8.3829]\n",
      " [1.     7.4764]\n",
      " [1.     8.5781]\n",
      " [1.     6.4862]\n",
      " [1.     5.0546]]\n"
     ]
    }
   ],
   "source": [
    "ones = np.ones((n_samples,1),dtype=int)\n",
    "x = np.append(ones,x,axis = 1)\n",
    "rowx,columnx = x.shape\n",
    "print(\"\\\"x\\\" is a matrix of order \\\"{0}x{1}\\\"\\n \".format(rowx,columnx))\n",
    "print(\"first 10 rows of \\\"x\\\"\")\n",
    "print(x[0:10,:])"
   ]
  },
  {
   "cell_type": "markdown",
   "metadata": {},
   "source": [
    "### Seting up Gradient Descent parameters\n",
    "use [np.zeros](https://numpy.org/doc/stable/reference/generated/numpy.zeros.html) to create `theta`"
   ]
  },
  {
   "cell_type": "code",
   "execution_count": 6,
   "metadata": {},
   "outputs": [],
   "source": [
    "theta = np.zeros((columnx,1)) \n",
    "iterations = 1500\n",
    "alpha = 0.01"
   ]
  },
  {
   "cell_type": "markdown",
   "metadata": {},
   "source": [
    "### Writing a function called *cost* to compute the cost function for linear regression"
   ]
  },
  {
   "cell_type": "code",
   "execution_count": 7,
   "metadata": {},
   "outputs": [],
   "source": [
    "def cost(x,y,theta):\n",
    "    j = np.sum(np.square((x.dot(theta)- y)))/(2*len(y))\n",
    "    return j"
   ]
  },
  {
   "cell_type": "markdown",
   "metadata": {},
   "source": [
    "### Testing the cost function"
   ]
  },
  {
   "cell_type": "code",
   "execution_count": 8,
   "metadata": {},
   "outputs": [
    {
     "name": "stdout",
     "output_type": "stream",
     "text": [
      "7.017499999999999\n"
     ]
    }
   ],
   "source": [
    "x1 = np.array([[1,2,3],[1,3,4],[1,4,5],[1,5,6]])\n",
    "y1 = np.array([[7],[6],[5],[4]])\n",
    "theta1 = np.array([[0.1],[0.2],[0.3]])\n",
    "print(cost(x1,y1,theta1))"
   ]
  },
  {
   "cell_type": "markdown",
   "metadata": {},
   "source": [
    "### Writing a function called *gradient* to use Gradient Descent algorithm to find the optimum solution for `theta`"
   ]
  },
  {
   "cell_type": "code",
   "execution_count": 9,
   "metadata": {},
   "outputs": [],
   "source": [
    "def gradient(x,y,theta,alpha,n):\n",
    "    j_hist = np.zeros((n,1))\n",
    "    for i in range(n):        \n",
    "        theta = theta-(alpha*(x.dot(theta)-y).T.dot(x)/len(y)).T\n",
    "        j_hist[i] = cost(x,y,theta)\n",
    "    return theta, j_hist"
   ]
  },
  {
   "cell_type": "markdown",
   "metadata": {},
   "source": [
    "### Testing the `gradient` function "
   ]
  },
  {
   "cell_type": "code",
   "execution_count": 10,
   "metadata": {},
   "outputs": [
    {
     "name": "stdout",
     "output_type": "stream",
     "text": [
      "Optimized theta2:\n",
      "[[ 9.09595305]\n",
      " [-1.46462464]]\n"
     ]
    },
    {
     "data": {
      "image/png": "[encoded data removed]",
      "text/plain": [
       "<Figure size 432x288 with 1 Axes>"
      ]
     },
     "metadata": {
      "needs_background": "light"
     },
     "output_type": "display_data"
    }
   ],
   "source": [
    "x2 = np.array([[1, 5], [1 ,2],[1, 4],[1, 5]])\n",
    "y2 = np.array([[1], [6],[4],[2]])\n",
    "theta2 = np.array([[0], [0]])\n",
    "alpha2 = 0.05\n",
    "n2 = 1000\n",
    "theta2, j_hist2 =  gradient(x2,y2,theta2,alpha2,n2)\n",
    "print(\"Optimized theta2:\")\n",
    "print(theta2)\n",
    "plt.plot(range(len(j_hist2)),j_hist2)\n",
    "plt.xlabel(\"No. of Iterations\")\n",
    "plt.ylabel(\"J(theta2) for every iteration\")\n",
    "plt.show()"
   ]
  },
  {
   "cell_type": "markdown",
   "metadata": {},
   "source": [
    "### Applying Gradient descent to our original data i.e. `x`,`y` and `theta`"
   ]
  },
  {
   "cell_type": "code",
   "execution_count": 11,
   "metadata": {},
   "outputs": [
    {
     "name": "stdout",
     "output_type": "stream",
     "text": [
      "Theta\n",
      "[[-3.63029144]\n",
      " [ 1.16636235]]\n"
     ]
    },
    {
     "data": {
      "image/png": "[encoded data removed]",
      "text/plain": [
       "<Figure size 432x288 with 1 Axes>"
      ]
     },
     "metadata": {
      "needs_background": "light"
     },
     "output_type": "display_data"
    }
   ],
   "source": [
    "theta, j_hist =  gradient(x,y,theta,alpha,iterations)\n",
    "print(\"Theta\")\n",
    "print(theta)\n",
    "plt.plot(range(len(j_hist)),j_hist)\n",
    "plt.xlabel(\"No. of Iterations\")\n",
    "plt.ylabel(\"J(theta) for every iteration\")\n",
    "plt.show()"
   ]
  },
  {
   "cell_type": "markdown",
   "metadata": {},
   "source": [
    "### Predicting the value of `y` for every value of `x`."
   ]
  },
  {
   "cell_type": "code",
   "execution_count": 12,
   "metadata": {},
   "outputs": [],
   "source": [
    "prediction = x.dot(theta)"
   ]
  },
  {
   "cell_type": "markdown",
   "metadata": {},
   "source": [
    "### Ploting the prediction and original data to see how well they fit."
   ]
  },
  {
   "cell_type": "code",
   "execution_count": 13,
   "metadata": {
    "scrolled": true
   },
   "outputs": [
    {
     "data": {
      "image/png": "[encoded data removed]",
      "text/plain": [
       "<Figure size 432x288 with 1 Axes>"
      ]
     },
     "metadata": {
      "needs_background": "light"
     },
     "output_type": "display_data"
    }
   ],
   "source": [
    "plt.plot(x[:,1],prediction,\"-r\", label=\"Predicted data\")\n",
    "plt.scatter(x[:,1],y,label=\"Original data\")\n",
    "plt.legend(loc=\"upper left\")\n",
    "plt.xlabel(\"Population size in 10000s\")\n",
    "plt.ylabel(\"profit in $10,000s\")\n",
    "plt.show()"
   ]
  },
  {
   "cell_type": "code",
   "execution_count": 14,
   "metadata": {},
   "outputs": [],
   "source": [
    "def normalize(x):\n",
    "    mu = np.mean(x[:,:],0).T\n",
    "    sigma = np.std(x[:,:],0).T\n",
    "    x[:,:] = (x[:,:]-mu)/sigma   \n",
    "    return x"
   ]
  }
 ],
 "metadata": {
  "kernelspec": {
   "display_name": "Python 3",
   "language": "python",
   "name": "python3"
  },
  "language_info": {
   "codemirror_mode": {
    "name": "ipython",
    "version": 3
   },
   "file_extension": ".py",
   "mimetype": "text/x-python",
   "name": "python",
   "nbconvert_exporter": "python",
   "pygments_lexer": "ipython3",
   "version": "3.8.2"
  }
 },
 "nbformat": 4,
 "nbformat_minor": 4
}
